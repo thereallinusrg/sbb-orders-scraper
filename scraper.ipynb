{
 "cells": [
  {
   "cell_type": "markdown",
   "metadata": {},
   "source": [
    "Download the date-filtered (e.g.: whole year) from https://www.sbb.ch/de/kaufen/pages/bestellung/bestellungen.xhtml and safe it somewhere.\n",
    "\n",
    "- pip install pdfminer.six\n",
    "- Create a file \"name.txt\" in this folder containing your Name and Surname without quotes ´Mara Muster´."
   ]
  },
  {
   "cell_type": "code",
   "execution_count": 17,
   "metadata": {},
   "outputs": [],
   "source": [
    "# Replace this with the path to your downloaded PDF file\n",
    "pdf_file = \"tickets.pdf\"\n",
    "\n",
    "# If your downloaded File is in German, the following, as well as the regex later on should be fine, otherwise you need to make some adjustments\n",
    "split_words = ['Reisende:r:', 'Bestellübersicht', 'Seite']\n",
    "\n",
    "# Loads your name from the \"name.txt\" file --> for privacy and not to include tickets you bought for others.\n",
    "with open('name.txt', 'r') as f:\n",
    "    name = f.read()"
   ]
  },
  {
   "cell_type": "code",
   "execution_count": 81,
   "metadata": {},
   "outputs": [],
   "source": [
    "from pdfminer.high_level import extract_text\n",
    "import re\n",
    "text = extract_text(pdf_file)"
   ]
  },
  {
   "cell_type": "code",
   "execution_count": 80,
   "metadata": {},
   "outputs": [],
   "source": [
    "parts = text.split(split_words[0])\n",
    "parts = [part for part in parts if part != []] # Remove empty elements from the list\n",
    "\n",
    "for i, part in enumerate(parts):\n",
    "    for word in split_words:\n",
    "        if word in part:\n",
    "            parts[i] = part.split(word)[1]\n",
    "\n",
    "# Drop every line that does not start with the name\n",
    "parts = [part for part in parts if part.startswith(' ' + name)]\n"
   ]
  },
  {
   "cell_type": "code",
   "execution_count": null,
   "metadata": {},
   "outputs": [],
   "source": [
    "pattern = rf'{name}(?P<ticket_type>.+?)(?P<price>\\d+\\.\\d{{2}} CHF)Reisedatum: (?P<reisedatum>\\d{{2}}\\.\\d{{2}}\\.\\d{{4}})Lieferadresse: (?P<lieferadresse>[^B]+)Bestelldatum: (?P<bestelldatum>\\d{{2}}\\.\\d{{2}}\\.\\d{{4}})Bestellnummer: (?P<bestellnummer>\\d+)'\n",
    "\n",
    "result_list = []\n",
    "\n",
    "for item in parts:\n",
    "    match = re.search(pattern, item)\n",
    "    if match:\n",
    "        result_list.append({\n",
    "            \"Name\": name, \n",
    "            \"Ticket Type\": match.group(\"ticket_type\").strip(),\n",
    "            \"Price\": match.group(\"price\").strip(),\n",
    "            \"Reisedatum\": match.group(\"reisedatum\").strip(),\n",
    "            \"Lieferadresse\": match.group(\"lieferadresse\").strip(),\n",
    "            \"Bestelldatum\": match.group(\"bestelldatum\").strip(),\n",
    "            \"Bestellnummer\": match.group(\"bestellnummer\").strip(),\n",
    "        })\n"
   ]
  },
  {
   "cell_type": "code",
   "execution_count": 89,
   "metadata": {},
   "outputs": [],
   "source": [
    "import pandas as pd\n",
    "\n",
    "df = pd.DataFrame(result_list)\n",
    "\n",
    "df.to_csv('tickets.csv')\n"
   ]
  }
 ],
 "metadata": {
  "kernelspec": {
   "display_name": "Jupyter",
   "language": "python",
   "name": "python3"
  },
  "language_info": {
   "codemirror_mode": {
    "name": "ipython",
    "version": 3
   },
   "file_extension": ".py",
   "mimetype": "text/x-python",
   "name": "python",
   "nbconvert_exporter": "python",
   "pygments_lexer": "ipython3",
   "version": "3.12.1"
  }
 },
 "nbformat": 4,
 "nbformat_minor": 2
}
